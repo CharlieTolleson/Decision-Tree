{
 "cells": [
  {
   "cell_type": "code",
   "execution_count": 25,
   "metadata": {},
   "outputs": [
    {
     "data": {
      "text/html": [
       "<div>\n",
       "<style>\n",
       "    .dataframe thead tr:only-child th {\n",
       "        text-align: right;\n",
       "    }\n",
       "\n",
       "    .dataframe thead th {\n",
       "        text-align: left;\n",
       "    }\n",
       "\n",
       "    .dataframe tbody tr th {\n",
       "        vertical-align: top;\n",
       "    }\n",
       "</style>\n",
       "<table border=\"1\" class=\"dataframe\">\n",
       "  <thead>\n",
       "    <tr style=\"text-align: right;\">\n",
       "      <th></th>\n",
       "      <th>outlook</th>\n",
       "      <th>temp</th>\n",
       "      <th>humidity</th>\n",
       "      <th>wind</th>\n",
       "      <th>play</th>\n",
       "    </tr>\n",
       "  </thead>\n",
       "  <tbody>\n",
       "    <tr>\n",
       "      <th>0</th>\n",
       "      <td>Sunny</td>\n",
       "      <td>Hot</td>\n",
       "      <td>High</td>\n",
       "      <td>Weak</td>\n",
       "      <td>No</td>\n",
       "    </tr>\n",
       "    <tr>\n",
       "      <th>1</th>\n",
       "      <td>Sunny</td>\n",
       "      <td>Hot</td>\n",
       "      <td>High</td>\n",
       "      <td>Strong</td>\n",
       "      <td>No</td>\n",
       "    </tr>\n",
       "    <tr>\n",
       "      <th>2</th>\n",
       "      <td>Overcast</td>\n",
       "      <td>Hot</td>\n",
       "      <td>High</td>\n",
       "      <td>Weak</td>\n",
       "      <td>Yes</td>\n",
       "    </tr>\n",
       "    <tr>\n",
       "      <th>3</th>\n",
       "      <td>Rain</td>\n",
       "      <td>Mild</td>\n",
       "      <td>High</td>\n",
       "      <td>Weak</td>\n",
       "      <td>Yes</td>\n",
       "    </tr>\n",
       "    <tr>\n",
       "      <th>4</th>\n",
       "      <td>Rain</td>\n",
       "      <td>Cool</td>\n",
       "      <td>Normal</td>\n",
       "      <td>Weak</td>\n",
       "      <td>Yes</td>\n",
       "    </tr>\n",
       "  </tbody>\n",
       "</table>\n",
       "</div>"
      ],
      "text/plain": [
       "    outlook  temp humidity    wind play\n",
       "0     Sunny   Hot     High    Weak   No\n",
       "1     Sunny   Hot     High  Strong   No\n",
       "2  Overcast   Hot     High    Weak  Yes\n",
       "3      Rain  Mild     High    Weak  Yes\n",
       "4      Rain  Cool   Normal    Weak  Yes"
      ]
     },
     "execution_count": 25,
     "metadata": {},
     "output_type": "execute_result"
    }
   ],
   "source": [
    "import numpy as np\n",
    "import pandas as pd\n",
    "df = pd.read_csv('tennis.csv')\n",
    "df.drop('day', 1, inplace=True)\n",
    "df.head()"
   ]
  },
  {
   "cell_type": "code",
   "execution_count": 100,
   "metadata": {},
   "outputs": [],
   "source": [
    "def entropies(data, col, label):\n",
    "    ents = []\n",
    "    props = data[label].value_counts()/len(data)\n",
    "    ents.append(-sum(props * np.log2(props)))\n",
    "    col = data[col]\n",
    "    for val in col.unique():\n",
    "        sub = data.loc[col == val]\n",
    "        props = sub[label].value_counts()/len(sub)\n",
    "        ents.append(-sum(props * np.log2(props)))\n",
    "    return pd.Series(ents)\n",
    "\n",
    "def gain(data, col, label):\n",
    "    props = sum([[1], data[col].value_counts()/len(data)], [])\n",
    "    props = pd.Series([1]).append(data[col].value_counts()/len(data))\n",
    "    ents = entropies(data, col, label)\n",
    "    ents.index = props.index\n",
    "    product = props * ents\n",
    "    return product.iloc[0] - sum(product.iloc[1:])\n",
    "\n",
    "def find_split(data, label):\n",
    "    scores = []\n",
    "    for col in data.drop(label, 1).columns:\n",
    "        scores.append(gain(data, col, label))\n",
    "    return data.columns[scores.index(max(scores))]\n",
    "\n",
    "def make_tree(data, label, val = None):\n",
    "    tree = []\n",
    "    if data.shape[1] > 1 and data[label].nunique() != 1:\n",
    "        on = find_split(data, label)\n",
    "        tree.append(on)\n",
    "        for val in data[on].unique():\n",
    "            split = make_tree(data.loc[data[on] == val].drop(on, 1), label)\n",
    "            if split != []:\n",
    "                tree.append(split)\n",
    "    return tree"
   ]
  },
  {
   "cell_type": "code",
   "execution_count": 101,
   "metadata": {},
   "outputs": [
    {
     "data": {
      "text/plain": [
       "['outlook', ['humidity'], ['wind']]"
      ]
     },
     "execution_count": 101,
     "metadata": {},
     "output_type": "execute_result"
    }
   ],
   "source": [
    "make_tree(df, 'play')"
   ]
  },
  {
   "cell_type": "code",
   "execution_count": 102,
   "metadata": {},
   "outputs": [],
   "source": [
    "new_data = pd.DataFrame(np.matrix([['a','s','d','f',1],\n",
    "                                   ['f','f','f','d',0],\n",
    "                                   ['d','d','f','d',1],\n",
    "                                   ['a','a','f','s',0],\n",
    "                                   ['s','f','f','s',1],\n",
    "                                   ['d','a','f','a',0],\n",
    "                                   ['f','f','s','d',1],\n",
    "                                   ['d','a','s','f',0],\n",
    "                                   ['s','f','s','a',1],\n",
    "                                   ['s','s','a','a',0],\n",
    "                                   ['s','f','d','a',1],\n",
    "                                   ['f','d','a','a',0],\n",
    "                                   ['a','d','d','a',1],\n",
    "                                   ['d','d','f','s',0]]))"
   ]
  },
  {
   "cell_type": "code",
   "execution_count": 104,
   "metadata": {},
   "outputs": [
    {
     "name": "stdout",
     "output_type": "stream",
     "text": [
      "CPU times: user 135 ms, sys: 3.66 ms, total: 139 ms\n",
      "Wall time: 138 ms\n"
     ]
    },
    {
     "data": {
      "text/plain": [
       "[2, [0, [3]], [0]]"
      ]
     },
     "execution_count": 104,
     "metadata": {},
     "output_type": "execute_result"
    }
   ],
   "source": [
    "%time make_tree(new_data, 4)"
   ]
  }
 ],
 "metadata": {
  "kernelspec": {
   "display_name": "Python 3",
   "language": "python",
   "name": "python3"
  },
  "language_info": {
   "codemirror_mode": {
    "name": "ipython",
    "version": 3
   },
   "file_extension": ".py",
   "mimetype": "text/x-python",
   "name": "python",
   "nbconvert_exporter": "python",
   "pygments_lexer": "ipython3",
   "version": "3.6.0"
  }
 },
 "nbformat": 4,
 "nbformat_minor": 2
}
