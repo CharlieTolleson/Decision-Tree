{
 "cells": [
  {
   "cell_type": "code",
   "execution_count": 1,
   "metadata": {},
   "outputs": [],
   "source": [
    "import numpy as np\n",
    "import pandas as pd\n",
    "\n",
    "\n",
    "class DecisionTreeNode:\n",
    "    \n",
    "    def __init__(self, value, depth, accuracy):\n",
    "        self.value = value\n",
    "        self.edges = {}\n",
    "        self.is_leaf = True\n",
    "        self.depth = depth\n",
    "        self.accuracy = accuracy\n",
    "        \n",
    "    def add_edge(self, key, value):\n",
    "        self.edges[key] = value\n",
    "        if self.is_leaf == True:\n",
    "            self.is_leaf = False\n",
    "            \n",
    "    def info(self):\n",
    "        print('Value: ' + str(self.value))\n",
    "        print('Edges: ' + str(list(self.edges.keys()))[1:-1])\n",
    "        print('Is leaf: ' + str(self.is_leaf))\n",
    "        print('Depth: ' + str(self.depth))\n",
    "        print('Accuracy: ' + str(self.accuracy))\n",
    "\n",
    "        \n",
    "def entropies(data, col, label):\n",
    "    ents = []\n",
    "    props = data[label].value_counts()/len(data)\n",
    "    ents.append(-sum(props * np.log2(props)))\n",
    "    col = data[col]\n",
    "    for val in col.unique():\n",
    "        sub = data.loc[col == val]\n",
    "        props = sub[label].value_counts()/len(sub)\n",
    "        ents.append(-sum(props * np.log2(props)))\n",
    "    return pd.Series(ents)\n",
    "\n",
    "def gain(data, col, label):\n",
    "    props = sum([[1], data[col].value_counts()/len(data)], [])\n",
    "    props = pd.Series([1]).append(data[col].value_counts()/len(data))\n",
    "    ents = entropies(data, col, label)\n",
    "    ents.index = props.index\n",
    "    product = props * ents\n",
    "    return product.iloc[0] - sum(product.iloc[1:])\n",
    "        \n",
    "def find_split(data, label):\n",
    "    scores = []\n",
    "    for col in data.drop(label, 1).columns:\n",
    "        scores.append(gain(data, col, label))\n",
    "    return data.columns[scores.index(max(scores))]\n",
    "\n",
    "def percolate_predictions(observation, node):\n",
    "    if node.is_leaf:\n",
    "        return node.value\n",
    "    return percolate_predictions(observation, node.edges[observation[node.value]])\n",
    "\n",
    "\n",
    "class DecisionTree:\n",
    "    \n",
    "    def __init__(self, max_depth = 10, max_node_accuracy = 1):\n",
    "        self.root = None\n",
    "        self.max_depth = max_depth\n",
    "        self.depth = 0\n",
    "        self.max_node_accuracy = max_node_accuracy\n",
    "    \n",
    "    def make_tree(self, data, label, depth = 0):\n",
    "        split = find_split(data, label)\n",
    "        accuracy = np.max(data[label].value_counts())/len(data)\n",
    "        node = DecisionTreeNode(split, depth, accuracy)\n",
    "        if self.root == None:\n",
    "            self.root = node\n",
    "        if data.shape[1] > 1 and data[label].nunique() != 1 and node.depth < self.max_depth and node.accuracy < self.max_node_accuracy:\n",
    "            for val in data[split].unique():\n",
    "                node.add_edge(val, DecisionTree.make_tree(self, data.loc[data[split] == val].drop(split, 1), label, node.depth + 1))\n",
    "        else:\n",
    "            node.value = data[label].value_counts().idxmax()\n",
    "            self.depth = node.depth if node.depth > self.depth else self.depth\n",
    "        return node\n",
    "    \n",
    "    def fit(self, data, label):\n",
    "        DecisionTree.make_tree(self, data, label)\n",
    "    \n",
    "    def predict(self, data):\n",
    "        predictions = []\n",
    "        for i in range(len(data)):\n",
    "            predictions.append(percolate_predictions(data.iloc[i], self.root))\n",
    "        return pd.Series(predictions)"
   ]
  },
  {
   "cell_type": "code",
   "execution_count": 2,
   "metadata": {},
   "outputs": [],
   "source": [
    "df = pd.read_csv('tennis.csv')\n",
    "df.drop('day', 1, inplace=True)\n",
    "\n",
    "tree = DecisionTree(max_depth=10, max_node_accuracy=.9)\n",
    "\n",
    "tree.fit(df, 'play')"
   ]
  },
  {
   "cell_type": "code",
   "execution_count": 9,
   "metadata": {},
   "outputs": [
    {
     "name": "stdout",
     "output_type": "stream",
     "text": [
      "Value: wind\n",
      "Edges: 'Weak', 'Strong'\n",
      "Is leaf: False\n",
      "Depth: 1\n",
      "Accuracy: 0.6\n"
     ]
    }
   ],
   "source": [
    "tree.root.edges['Rain'].info()#.edges['Normal'].info()"
   ]
  },
  {
   "cell_type": "code",
   "execution_count": 43,
   "metadata": {},
   "outputs": [
    {
     "name": "stdout",
     "output_type": "stream",
     "text": [
      "0     No\n",
      "1    Yes\n",
      "dtype: object\n"
     ]
    },
    {
     "data": {
      "text/plain": [
       "0     No\n",
       "3    Yes\n",
       "Name: play, dtype: object"
      ]
     },
     "execution_count": 43,
     "metadata": {},
     "output_type": "execute_result"
    }
   ],
   "source": [
    "from sklearn.model_selection import train_test_split\n",
    "\n",
    "train, test = train_test_split(df, test_size = 2/14)\n",
    "\n",
    "tennis = DecisionTree(max_depth=10, max_node_accuracy=1)\n",
    "\n",
    "tennis.fit(train, 'play')\n",
    "\n",
    "print(tennis.predict(test))\n",
    "test['play']"
   ]
  },
  {
   "cell_type": "code",
   "execution_count": 61,
   "metadata": {},
   "outputs": [
    {
     "name": "stdout",
     "output_type": "stream",
     "text": [
      "0    0\n",
      "1    1\n",
      "2    1\n",
      "3    1\n",
      "4    0\n",
      "dtype: int64\n"
     ]
    },
    {
     "data": {
      "text/plain": [
       "21    0\n",
       "6     1\n",
       "22    1\n",
       "1     1\n",
       "11    0\n",
       "Name: Nikhil_eats, dtype: int64"
      ]
     },
     "execution_count": 61,
     "metadata": {},
     "output_type": "execute_result"
    }
   ],
   "source": [
    "pizza = pd.read_csv('pizza_data.csv')\n",
    "pizza.drop(['Pizza_ID', 'Category', 'Charlie_eats'], 1, inplace=True)\n",
    "\n",
    "train, test = train_test_split(pizza, test_size = 0.2)\n",
    "\n",
    "ptree = DecisionTree(max_depth=10, max_node_accuracy=.8)\n",
    "\n",
    "ptree.fit(train, 'Nikhil_eats')\n",
    "\n",
    "print(ptree.predict(test))\n",
    "test['Nikhil_eats']"
   ]
  },
  {
   "cell_type": "code",
   "execution_count": null,
   "metadata": {},
   "outputs": [],
   "source": []
  }
 ],
 "metadata": {
  "kernelspec": {
   "display_name": "Python 3",
   "language": "python",
   "name": "python3"
  },
  "language_info": {
   "codemirror_mode": {
    "name": "ipython",
    "version": 3
   },
   "file_extension": ".py",
   "mimetype": "text/x-python",
   "name": "python",
   "nbconvert_exporter": "python",
   "pygments_lexer": "ipython3",
   "version": "3.6.0"
  }
 },
 "nbformat": 4,
 "nbformat_minor": 2
}
